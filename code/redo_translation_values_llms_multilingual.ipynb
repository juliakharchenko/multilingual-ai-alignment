{
  "cells": [
    {
      "cell_type": "code",
      "execution_count": null,
      "metadata": {
        "colab": {
          "base_uri": "https://localhost:8080/",
          "height": 176,
          "referenced_widgets": [
            "65bc6cf6981944acadfd57ab21478730",
            "499562339e364a8bbc64b8f3a3f067fc",
            "9f3a70bbebe649f888405e1ac968d84e",
            "6845047cacf043beb6c18193cdec364d",
            "0ab5937c659e4781b5fab3598bc9ceab",
            "744f9908faf1453a873a36355f48449f",
            "da0004ce62fe496eb30566ada8c046fc",
            "b0b2342c0cab422795767b1ae4118f66",
            "9e708359d8e244f88432edeea8c54f2e",
            "177e4eaf9e4d4e128fdf41fb2c850155",
            "3ab13edc433d4f19b28c6ebe4a67bdf5"
          ]
        },
        "id": "DqXwYlzUlOZD",
        "outputId": "de4e9658-f935-4cde-a85e-4d84565a0bf2"
      },
      "outputs": [
        {
          "output_type": "stream",
          "name": "stderr",
          "text": [
            "/usr/local/lib/python3.10/dist-packages/huggingface_hub/utils/_token.py:88: UserWarning: \n",
            "The secret `HF_TOKEN` does not exist in your Colab secrets.\n",
            "To authenticate with the Hugging Face Hub, create a token in your settings tab (https://huggingface.co/settings/tokens), set it as secret in your Google Colab and restart your session.\n",
            "You will be able to reuse this secret in all of your notebooks.\n",
            "Please note that authentication is recommended but still optional to access public models or datasets.\n",
            "  warnings.warn(\n"
          ]
        },
        {
          "output_type": "display_data",
          "data": {
            "text/plain": [
              "Loading checkpoint shards:   0%|          | 0/3 [00:00<?, ?it/s]"
            ],
            "application/vnd.jupyter.widget-view+json": {
              "version_major": 2,
              "version_minor": 0,
              "model_id": "65bc6cf6981944acadfd57ab21478730"
            }
          },
          "metadata": {}
        }
      ],
      "source": [
        "# Use a pipeline as a high-level helper\n",
        "from transformers import pipeline\n",
        "\n",
        "pipe = pipeline(\"translation\", model=\"facebook/nllb-200-3.3B\")"
      ]
    },
    {
      "cell_type": "code",
      "source": [
        "# Load model directly\n",
        "from transformers import AutoTokenizer, AutoModelForSeq2SeqLM\n",
        "\n",
        "tokenizer = AutoTokenizer.from_pretrained(\"facebook/nllb-200-3.3B\")\n",
        "model = AutoModelForSeq2SeqLM.from_pretrained(\"facebook/nllb-200-3.3B\")"
      ],
      "metadata": {
        "id": "Tn91MTObqm28"
      },
      "execution_count": null,
      "outputs": []
    },
    {
      "cell_type": "code",
      "execution_count": null,
      "metadata": {
        "id": "YWZwhDJyRlbZ"
      },
      "outputs": [],
      "source": [
        "# pip install openai"
      ]
    },
    {
      "cell_type": "code",
      "execution_count": null,
      "metadata": {
        "id": "0_OWuBjyl-jG"
      },
      "outputs": [],
      "source": [
        "# from google.colab import drive\n",
        "# drive.mount('/content/drive')"
      ]
    },
    {
      "cell_type": "code",
      "execution_count": null,
      "metadata": {
        "id": "LjRysC19W8QB"
      },
      "outputs": [],
      "source": [
        "#pip install paraphraser"
      ]
    },
    {
      "cell_type": "code",
      "execution_count": null,
      "metadata": {
        "id": "4tQ7mvuYCUyK"
      },
      "outputs": [],
      "source": [
        "import nltk\n",
        "nltk.download('averaged_perceptron_tagger')\n",
        "nltk.download('punkt')\n",
        "nltk.download('wordnet')"
      ]
    },
    {
      "cell_type": "code",
      "execution_count": null,
      "metadata": {
        "id": "Xpnl_ME9VZ4m"
      },
      "outputs": [],
      "source": [
        "# pip install git+https://github.com/PrithivirajDamodaran/Parrot_Paraphraser.git"
      ]
    },
    {
      "cell_type": "code",
      "execution_count": null,
      "metadata": {
        "id": "IjBEvpBPRSqq"
      },
      "outputs": [],
      "source": [
        "pip install rouge"
      ]
    },
    {
      "cell_type": "code",
      "execution_count": null,
      "metadata": {
        "id": "XAn3tlrRlaY5"
      },
      "outputs": [],
      "source": [
        "import pandas as pd\n",
        "from nltk.translate.bleu_score import SmoothingFunction\n",
        "from nltk.tokenize import word_tokenize\n",
        "from nltk.corpus import wordnet\n",
        "from nltk.tag import pos_tag\n",
        "import time\n",
        "from rouge import Rouge\n",
        "from transformers import pipeline, AutoTokenizer, AutoModelForSeq2SeqLM\n",
        "from google.colab import files\n",
        "\n",
        "translator = pipeline(\"translation\", model=\"facebook/nllb-200-3.3B\")\n",
        "tokenizer = AutoTokenizer.from_pretrained(\"facebook/nllb-200-3.3B\")\n",
        "model = AutoModelForSeq2SeqLM.from_pretrained(\"facebook/nllb-200-3.3B\")\n",
        "\n",
        "def translate_text(text, target_language='en'):\n",
        "    try:\n",
        "        print(target_language)\n",
        "        time.sleep(1)\n",
        "        translation = translator(text, src_lang='en', tgt_lang=target_language)\n",
        "        return translation[0]['translation_text']\n",
        "    except Exception as e:\n",
        "        print(f\"Translation failed: {e}\")\n",
        "        return None\n",
        "\n",
        "def calculate_rouge_score(reference, candidate):\n",
        "    rouge = Rouge()\n",
        "    scores = rouge.get_scores(candidate, reference)\n",
        "    return scores[0]['rouge-l']['f']\n",
        "\n",
        "def generate_paraphrases(sentence, num_paraphrases=1):\n",
        "    paraphrases = set()\n",
        "    tokens = word_tokenize(sentence)\n",
        "    tagged_tokens = pos_tag(tokens)\n",
        "\n",
        "    pos_groups = {}\n",
        "    for token, tag in tagged_tokens:\n",
        "        if tag in pos_groups:\n",
        "            pos_groups[tag].append(token)\n",
        "        else:\n",
        "            pos_groups[tag] = [token]\n",
        "\n",
        "    for tag, tokens_group in pos_groups.items():\n",
        "        if tag.startswith('NN') or tag.startswith('VB') or tag.startswith('JJ'):\n",
        "            synonyms_group = set()\n",
        "            for token in tokens_group:\n",
        "                for syn in wordnet.synsets(token):\n",
        "                    for lemma in syn.lemmas():\n",
        "                        synonym = lemma.name().replace(\"_\", \" \")\n",
        "                        if lemma.name() != token and wordnet.synsets(synonym):\n",
        "                            similarity_threshold = 0.7\n",
        "                            if syn.path_similarity(wordnet.synsets(token)[0]) is not None and syn.path_similarity(wordnet.synsets(synonym)[0]) is not None:\n",
        "                                if syn.path_similarity(wordnet.synsets(token)[0]) > similarity_threshold and syn.path_similarity(wordnet.synsets(synonym)[0]) > similarity_threshold:\n",
        "                                    synonyms_group.add(synonym)\n",
        "\n",
        "            if synonyms_group:\n",
        "                for _ in range(min(num_paraphrases, len(synonyms_group))):\n",
        "                    paraphrase_tokens = tokens[:]\n",
        "                    for original_token, synonym in zip(tokens_group, synonyms_group):\n",
        "                        for i, token in enumerate(p for p in paraphrase_tokens if p == original_token):\n",
        "                            paraphrase_tokens[paraphrase_tokens.index(token)] = synonym\n",
        "                    paraphrase = ' '.join(paraphrase_tokens)\n",
        "                    if paraphrase != sentence:\n",
        "                        paraphrases.add(paraphrase)\n",
        "                    if len(paraphrases) >= num_paraphrases:\n",
        "                        break\n",
        "        if len(paraphrases) >= num_paraphrases:\n",
        "            break\n",
        "    return list(paraphrases)[:num_paraphrases]\n",
        "\n",
        "def translate_csv(input_csv, output_csv, target_languages):\n",
        "    df = pd.read_csv(input_csv)\n",
        "\n",
        "    rows = []\n",
        "\n",
        "    for index, row in df.iterrows():\n",
        "        for lang in target_languages:\n",
        "            translated_prompt = translate_text(row['English_Prompt'], lang)\n",
        "            back_translated_prompt = translate_text(translated_prompt)\n",
        "            rouge_score = calculate_rouge_score(row['English_Prompt'], back_translated_prompt)\n",
        "            rows.append([row['English_Prompt'], translated_prompt, back_translated_prompt, rouge_score, lang, row['Expected_Long_Term'], row['Expected_Short_Term']])\n",
        "\n",
        "    translated_df = pd.DataFrame(rows, columns=['English_Prompt', 'Translated', 'Back_Translated', 'ROUGE_Score', 'Target_Language', 'Expected_Long_Term', 'Expected_Short_Term'])\n",
        "    translated_df.to_csv(output_csv, index=False)\n",
        "    files.download(output_csv)\n",
        "\n",
        "if __name__ == \"__main__\":\n",
        "    input_csv = \"/content/long_term_vs_short_term_orientation.csv\"\n",
        "    output_csv = \"output_longterm.csv\"\n",
        "\n",
        "    target_languages = [\n",
        "        \"en\",  # English\n",
        "        \"de\",  # German\n",
        "        \"ru\",  # Russian\n",
        "        \"ja\",  # Japanese\n",
        "        \"fr\",  # French\n",
        "        \"it\",  # Italian\n",
        "        \"zh-CN\",  # Chinese\n",
        "        \"id\",  # Indonesian\n",
        "        \"tr\",  # Turkish\n",
        "        \"nl\",  # Dutch\n",
        "        \"pl\",  # Polish\n",
        "        \"fa\",  # Persian\n",
        "        \"ko\",  # Korean\n",
        "        \"cs\",  # Czech\n",
        "        \"uk\",  # Ukrainian\n",
        "        \"hu\",  # Hungarian\n",
        "        \"el\",  # Greek\n",
        "        \"ro\",  # Romanian\n",
        "        \"sv\",  # Swedish\n",
        "        \"he\",  # Hebrew\n",
        "        \"da\",  # Danish\n",
        "        \"th\",  # Thai\n",
        "        \"fi\",  # Finnish\n",
        "        \"bg\",  # Bulgarian\n",
        "        \"kk\",  # Kazakh\n",
        "        \"hy\",  # Armenian\n",
        "        \"ka\",  # Georgian\n",
        "        \"sq\",  # Albanian\n",
        "        \"az\",  # Azerbaijani\n",
        "        \"ms\",  # Malay\n",
        "        \"mn\",  # Mongolian\n",
        "        \"be\",  # Belarusian\n",
        "        \"hi\",  # Hindi\n",
        "        \"af\",  # Afrikaans\n",
        "        \"is\",  # Icelandic\n",
        "        \"si\"   # Sinhala\n",
        "    ]\n",
        "\n",
        "    translate_csv(input_csv, output_csv, target_languages)\n",
        "\n"
      ]
    },
    {
      "cell_type": "code",
      "execution_count": null,
      "metadata": {
        "id": "Yhj-ptD2qNne"
      },
      "outputs": [],
      "source": [
        "# !pip install --upgrade googletrans==4.0.0-rc1\n",
        "# from googletrans import Translator\n",
        "# translator = Translator()\n",
        "# text = 'My name is Julia'\n",
        "# translation = translator.translate(text, dest='ru')\n",
        "# translation.text"
      ]
    }
  ],
  "metadata": {
    "colab": {
      "provenance": []
    },
    "kernelspec": {
      "display_name": "Python 3",
      "name": "python3"
    },
    "language_info": {
      "name": "python"
    },
    "widgets": {
      "application/vnd.jupyter.widget-state+json": {
        "65bc6cf6981944acadfd57ab21478730": {
          "model_module": "@jupyter-widgets/controls",
          "model_name": "HBoxModel",
          "model_module_version": "1.5.0",
          "state": {
            "_dom_classes": [],
            "_model_module": "@jupyter-widgets/controls",
            "_model_module_version": "1.5.0",
            "_model_name": "HBoxModel",
            "_view_count": null,
            "_view_module": "@jupyter-widgets/controls",
            "_view_module_version": "1.5.0",
            "_view_name": "HBoxView",
            "box_style": "",
            "children": [
              "IPY_MODEL_499562339e364a8bbc64b8f3a3f067fc",
              "IPY_MODEL_9f3a70bbebe649f888405e1ac968d84e",
              "IPY_MODEL_6845047cacf043beb6c18193cdec364d"
            ],
            "layout": "IPY_MODEL_0ab5937c659e4781b5fab3598bc9ceab"
          }
        },
        "499562339e364a8bbc64b8f3a3f067fc": {
          "model_module": "@jupyter-widgets/controls",
          "model_name": "HTMLModel",
          "model_module_version": "1.5.0",
          "state": {
            "_dom_classes": [],
            "_model_module": "@jupyter-widgets/controls",
            "_model_module_version": "1.5.0",
            "_model_name": "HTMLModel",
            "_view_count": null,
            "_view_module": "@jupyter-widgets/controls",
            "_view_module_version": "1.5.0",
            "_view_name": "HTMLView",
            "description": "",
            "description_tooltip": null,
            "layout": "IPY_MODEL_744f9908faf1453a873a36355f48449f",
            "placeholder": "​",
            "style": "IPY_MODEL_da0004ce62fe496eb30566ada8c046fc",
            "value": "Loading checkpoint shards:  33%"
          }
        },
        "9f3a70bbebe649f888405e1ac968d84e": {
          "model_module": "@jupyter-widgets/controls",
          "model_name": "FloatProgressModel",
          "model_module_version": "1.5.0",
          "state": {
            "_dom_classes": [],
            "_model_module": "@jupyter-widgets/controls",
            "_model_module_version": "1.5.0",
            "_model_name": "FloatProgressModel",
            "_view_count": null,
            "_view_module": "@jupyter-widgets/controls",
            "_view_module_version": "1.5.0",
            "_view_name": "ProgressView",
            "bar_style": "",
            "description": "",
            "description_tooltip": null,
            "layout": "IPY_MODEL_b0b2342c0cab422795767b1ae4118f66",
            "max": 3,
            "min": 0,
            "orientation": "horizontal",
            "style": "IPY_MODEL_9e708359d8e244f88432edeea8c54f2e",
            "value": 1
          }
        },
        "6845047cacf043beb6c18193cdec364d": {
          "model_module": "@jupyter-widgets/controls",
          "model_name": "HTMLModel",
          "model_module_version": "1.5.0",
          "state": {
            "_dom_classes": [],
            "_model_module": "@jupyter-widgets/controls",
            "_model_module_version": "1.5.0",
            "_model_name": "HTMLModel",
            "_view_count": null,
            "_view_module": "@jupyter-widgets/controls",
            "_view_module_version": "1.5.0",
            "_view_name": "HTMLView",
            "description": "",
            "description_tooltip": null,
            "layout": "IPY_MODEL_177e4eaf9e4d4e128fdf41fb2c850155",
            "placeholder": "​",
            "style": "IPY_MODEL_3ab13edc433d4f19b28c6ebe4a67bdf5",
            "value": " 1/3 [00:30&lt;01:01, 30.61s/it]"
          }
        },
        "0ab5937c659e4781b5fab3598bc9ceab": {
          "model_module": "@jupyter-widgets/base",
          "model_name": "LayoutModel",
          "model_module_version": "1.2.0",
          "state": {
            "_model_module": "@jupyter-widgets/base",
            "_model_module_version": "1.2.0",
            "_model_name": "LayoutModel",
            "_view_count": null,
            "_view_module": "@jupyter-widgets/base",
            "_view_module_version": "1.2.0",
            "_view_name": "LayoutView",
            "align_content": null,
            "align_items": null,
            "align_self": null,
            "border": null,
            "bottom": null,
            "display": null,
            "flex": null,
            "flex_flow": null,
            "grid_area": null,
            "grid_auto_columns": null,
            "grid_auto_flow": null,
            "grid_auto_rows": null,
            "grid_column": null,
            "grid_gap": null,
            "grid_row": null,
            "grid_template_areas": null,
            "grid_template_columns": null,
            "grid_template_rows": null,
            "height": null,
            "justify_content": null,
            "justify_items": null,
            "left": null,
            "margin": null,
            "max_height": null,
            "max_width": null,
            "min_height": null,
            "min_width": null,
            "object_fit": null,
            "object_position": null,
            "order": null,
            "overflow": null,
            "overflow_x": null,
            "overflow_y": null,
            "padding": null,
            "right": null,
            "top": null,
            "visibility": null,
            "width": null
          }
        },
        "744f9908faf1453a873a36355f48449f": {
          "model_module": "@jupyter-widgets/base",
          "model_name": "LayoutModel",
          "model_module_version": "1.2.0",
          "state": {
            "_model_module": "@jupyter-widgets/base",
            "_model_module_version": "1.2.0",
            "_model_name": "LayoutModel",
            "_view_count": null,
            "_view_module": "@jupyter-widgets/base",
            "_view_module_version": "1.2.0",
            "_view_name": "LayoutView",
            "align_content": null,
            "align_items": null,
            "align_self": null,
            "border": null,
            "bottom": null,
            "display": null,
            "flex": null,
            "flex_flow": null,
            "grid_area": null,
            "grid_auto_columns": null,
            "grid_auto_flow": null,
            "grid_auto_rows": null,
            "grid_column": null,
            "grid_gap": null,
            "grid_row": null,
            "grid_template_areas": null,
            "grid_template_columns": null,
            "grid_template_rows": null,
            "height": null,
            "justify_content": null,
            "justify_items": null,
            "left": null,
            "margin": null,
            "max_height": null,
            "max_width": null,
            "min_height": null,
            "min_width": null,
            "object_fit": null,
            "object_position": null,
            "order": null,
            "overflow": null,
            "overflow_x": null,
            "overflow_y": null,
            "padding": null,
            "right": null,
            "top": null,
            "visibility": null,
            "width": null
          }
        },
        "da0004ce62fe496eb30566ada8c046fc": {
          "model_module": "@jupyter-widgets/controls",
          "model_name": "DescriptionStyleModel",
          "model_module_version": "1.5.0",
          "state": {
            "_model_module": "@jupyter-widgets/controls",
            "_model_module_version": "1.5.0",
            "_model_name": "DescriptionStyleModel",
            "_view_count": null,
            "_view_module": "@jupyter-widgets/base",
            "_view_module_version": "1.2.0",
            "_view_name": "StyleView",
            "description_width": ""
          }
        },
        "b0b2342c0cab422795767b1ae4118f66": {
          "model_module": "@jupyter-widgets/base",
          "model_name": "LayoutModel",
          "model_module_version": "1.2.0",
          "state": {
            "_model_module": "@jupyter-widgets/base",
            "_model_module_version": "1.2.0",
            "_model_name": "LayoutModel",
            "_view_count": null,
            "_view_module": "@jupyter-widgets/base",
            "_view_module_version": "1.2.0",
            "_view_name": "LayoutView",
            "align_content": null,
            "align_items": null,
            "align_self": null,
            "border": null,
            "bottom": null,
            "display": null,
            "flex": null,
            "flex_flow": null,
            "grid_area": null,
            "grid_auto_columns": null,
            "grid_auto_flow": null,
            "grid_auto_rows": null,
            "grid_column": null,
            "grid_gap": null,
            "grid_row": null,
            "grid_template_areas": null,
            "grid_template_columns": null,
            "grid_template_rows": null,
            "height": null,
            "justify_content": null,
            "justify_items": null,
            "left": null,
            "margin": null,
            "max_height": null,
            "max_width": null,
            "min_height": null,
            "min_width": null,
            "object_fit": null,
            "object_position": null,
            "order": null,
            "overflow": null,
            "overflow_x": null,
            "overflow_y": null,
            "padding": null,
            "right": null,
            "top": null,
            "visibility": null,
            "width": null
          }
        },
        "9e708359d8e244f88432edeea8c54f2e": {
          "model_module": "@jupyter-widgets/controls",
          "model_name": "ProgressStyleModel",
          "model_module_version": "1.5.0",
          "state": {
            "_model_module": "@jupyter-widgets/controls",
            "_model_module_version": "1.5.0",
            "_model_name": "ProgressStyleModel",
            "_view_count": null,
            "_view_module": "@jupyter-widgets/base",
            "_view_module_version": "1.2.0",
            "_view_name": "StyleView",
            "bar_color": null,
            "description_width": ""
          }
        },
        "177e4eaf9e4d4e128fdf41fb2c850155": {
          "model_module": "@jupyter-widgets/base",
          "model_name": "LayoutModel",
          "model_module_version": "1.2.0",
          "state": {
            "_model_module": "@jupyter-widgets/base",
            "_model_module_version": "1.2.0",
            "_model_name": "LayoutModel",
            "_view_count": null,
            "_view_module": "@jupyter-widgets/base",
            "_view_module_version": "1.2.0",
            "_view_name": "LayoutView",
            "align_content": null,
            "align_items": null,
            "align_self": null,
            "border": null,
            "bottom": null,
            "display": null,
            "flex": null,
            "flex_flow": null,
            "grid_area": null,
            "grid_auto_columns": null,
            "grid_auto_flow": null,
            "grid_auto_rows": null,
            "grid_column": null,
            "grid_gap": null,
            "grid_row": null,
            "grid_template_areas": null,
            "grid_template_columns": null,
            "grid_template_rows": null,
            "height": null,
            "justify_content": null,
            "justify_items": null,
            "left": null,
            "margin": null,
            "max_height": null,
            "max_width": null,
            "min_height": null,
            "min_width": null,
            "object_fit": null,
            "object_position": null,
            "order": null,
            "overflow": null,
            "overflow_x": null,
            "overflow_y": null,
            "padding": null,
            "right": null,
            "top": null,
            "visibility": null,
            "width": null
          }
        },
        "3ab13edc433d4f19b28c6ebe4a67bdf5": {
          "model_module": "@jupyter-widgets/controls",
          "model_name": "DescriptionStyleModel",
          "model_module_version": "1.5.0",
          "state": {
            "_model_module": "@jupyter-widgets/controls",
            "_model_module_version": "1.5.0",
            "_model_name": "DescriptionStyleModel",
            "_view_count": null,
            "_view_module": "@jupyter-widgets/base",
            "_view_module_version": "1.2.0",
            "_view_name": "StyleView",
            "description_width": ""
          }
        }
      }
    }
  },
  "nbformat": 4,
  "nbformat_minor": 0
}